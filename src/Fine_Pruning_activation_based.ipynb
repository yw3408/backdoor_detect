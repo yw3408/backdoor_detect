{
  "nbformat": 4,
  "nbformat_minor": 0,
  "metadata": {
    "colab": {
      "name": "Fine_Pruning_activation_based.ipynb",
      "provenance": []
    },
    "kernelspec": {
      "name": "python3",
      "display_name": "Python 3"
    },
    "accelerator": "GPU"
  },
  "cells": [
    {
      "cell_type": "code",
      "metadata": {
        "colab": {
          "base_uri": "https://localhost:8080/"
        },
        "id": "AM0GH8VUhhXN",
        "outputId": "d2541cdf-e0bd-4fa8-aefc-f7d2a8bcbae1"
      },
      "source": [
        "!apt-get install -y -qq software-properties-common python-software-properties module-init-tools\n",
        "!add-apt-repository -y ppa:alessandro-strada/ppa 2>&1 > /dev/null\n",
        "!apt-get update -qq 2>&1 > /dev/null\n",
        "!apt-get -y install -qq google-drive-ocamlfuse fuse\n",
        "from google.colab import auth\n",
        "auth.authenticate_user()\n",
        "from oauth2client.client import GoogleCredentials\n",
        "creds = GoogleCredentials.get_application_default()\n",
        "import getpass\n",
        "!google-drive-ocamlfuse -headless -id={creds.client_id} -secret={creds.client_secret} < /dev/null 2>&1 | grep URL\n",
        "vcode = getpass.getpass()\n",
        "!echo {vcode} | google-drive-ocamlfuse -headless -id={creds.client_id} -secret={creds.client_secret}\n",
        "!mkdir -p drive\n",
        "!google-drive-ocamlfuse drive\n",
        "import os\n",
        "os.chdir(\"drive/MLsecurity_project\") "
      ],
      "execution_count": null,
      "outputs": [
        {
          "output_type": "stream",
          "text": [
            "E: Package 'python-software-properties' has no installation candidate\n",
            "Selecting previously unselected package google-drive-ocamlfuse.\n",
            "(Reading database ... 145480 files and directories currently installed.)\n",
            "Preparing to unpack .../google-drive-ocamlfuse_0.7.23-0ubuntu1~ubuntu18.04.1_amd64.deb ...\n",
            "Unpacking google-drive-ocamlfuse (0.7.23-0ubuntu1~ubuntu18.04.1) ...\n",
            "Setting up google-drive-ocamlfuse (0.7.23-0ubuntu1~ubuntu18.04.1) ...\n",
            "Processing triggers for man-db (2.8.3-2ubuntu0.1) ...\n",
            "Please, open the following URL in a web browser: https://accounts.google.com/o/oauth2/auth?client_id=32555940559.apps.googleusercontent.com&redirect_uri=urn%3Aietf%3Awg%3Aoauth%3A2.0%3Aoob&scope=https%3A%2F%2Fwww.googleapis.com%2Fauth%2Fdrive&response_type=code&access_type=offline&approval_prompt=force\n",
            "··········\n",
            "Please, open the following URL in a web browser: https://accounts.google.com/o/oauth2/auth?client_id=32555940559.apps.googleusercontent.com&redirect_uri=urn%3Aietf%3Awg%3Aoauth%3A2.0%3Aoob&scope=https%3A%2F%2Fwww.googleapis.com%2Fauth%2Fdrive&response_type=code&access_type=offline&approval_prompt=force\n",
            "Please enter the verification code: Access token retrieved correctly.\n"
          ],
          "name": "stdout"
        }
      ]
    },
    {
      "cell_type": "code",
      "metadata": {
        "id": "w2hmj5s5iqj1"
      },
      "source": [
        "# import os\n",
        "# os.chdir(\"drive/MLsecurity_project\") \n",
        "import keras\n",
        "import sys\n",
        "import h5py\n",
        "import numpy as np\n",
        "from keras.models import Model\n",
        "import pandas as pd\n",
        "import matplotlib.pyplot as plt\n",
        "import heapq"
      ],
      "execution_count": null,
      "outputs": []
    },
    {
      "cell_type": "markdown",
      "metadata": {
        "id": "65iHhstzjJJq"
      },
      "source": [
        "# Prepare Data"
      ]
    },
    {
      "cell_type": "code",
      "metadata": {
        "id": "f-pal0X-jOTb"
      },
      "source": [
        "# get data\n",
        "sunglasses_filename = \"data/sunglasses_poisoned_data.h5\"\n",
        "anonymous_1_filename = \"data/anonymous_1_poisoned_data.h5\"\n",
        "muleye_filename = \"data/Multi/eyebrows_poisoned_data.h5\"\n",
        "mullip_filename = \"data/Multi/lipstick_poisoned_data.h5\"\n",
        "mulsun_filename = \"data/Multi/sunglasses_poisoned_data.h5\"\n",
        "vali_filename = \"data/clean_validation_data.h5\"\n",
        "test_filename = \"data/clean_test_data.h5\"\n",
        "def data_loader(filepath):\n",
        "    data = h5py.File(filepath, 'r')\n",
        "    x_data = np.array(data['data'])\n",
        "    y_data = np.array(data['label'])\n",
        "    x_data = x_data.transpose((0,2,3,1))\n",
        "\n",
        "    return x_data, y_data\n",
        "\n",
        "def data_preprocess(x_data):\n",
        "    return x_data/255"
      ],
      "execution_count": null,
      "outputs": []
    },
    {
      "cell_type": "code",
      "metadata": {
        "id": "gBwXj1V57afQ"
      },
      "source": [
        "# sunglasses data\n",
        "x_sun, y_sun = data_loader(sunglasses_filename)\n",
        "x_sun = data_preprocess(x_sun)\n",
        "# # anonymous 1 data\n",
        "x_ano1, y_ano1 = data_loader(anonymous_1_filename)\n",
        "x_ano1 = data_preprocess(x_ano1)\n",
        "# multi_trigger data\n",
        "x_me, y_me = data_loader(muleye_filename)\n",
        "x_me = data_preprocess(x_me)\n",
        "x_ms, y_ms = data_loader(mulsun_filename)\n",
        "x_ms = data_preprocess(x_ms)\n",
        "x_ml, y_ml = data_loader(mullip_filename)\n",
        "x_ml = data_preprocess(x_ml)\n",
        "# validation clean data\n",
        "x_val, y_val = data_loader(vali_filename)\n",
        "x_val = data_preprocess(x_val)\n",
        "# test clean data\n",
        "x_test, y_test = data_loader(test_filename)\n",
        "x_test = data_preprocess(x_test)"
      ],
      "execution_count": null,
      "outputs": []
    },
    {
      "cell_type": "markdown",
      "metadata": {
        "id": "5QwhBOfU7HgU"
      },
      "source": [
        "# Prepare Model and Fine-pruning setting"
      ]
    },
    {
      "cell_type": "code",
      "metadata": {
        "id": "CQ5XuaS285ot"
      },
      "source": [
        "# get activation result of last convalutional layer\n",
        "def act_last_layer(model, x):\n",
        "  # bd_model = keras.models.load_model(sun_bd_filename)\n",
        "  layer_outputs = model.layers[6].output\n",
        "  layer_outputs_2 = model.layers[7].output\n",
        "  \n",
        "  model_act = Model(inputs= model.input, outputs=layer_outputs)\n",
        "  activations = model_act.predict(x)\n",
        "  model_act_2 = Model(inputs= model.input, outputs=layer_outputs_2)\n",
        "  activations_2 = model_act_2.predict(x)\n",
        "  return activations, activations_2"
      ],
      "execution_count": null,
      "outputs": []
    },
    {
      "cell_type": "code",
      "metadata": {
        "id": "Jp4wwdqs7MPE"
      },
      "source": [
        "# only prune last layer\n",
        "def pru_mask(activations, fra, fra_mask):\n",
        "  act = np.sum(activations,0)\n",
        "  act = act.reshape(-1)\n",
        "  n_pru = int(len(act)*fra)\n",
        "  pru = np.argpartition(act,n_pru)[:n_pru]\n",
        "  mask = np.ones(act.shape)\n",
        "  for i in pru:\n",
        "      mask[i] = fra_mask\n",
        "  return mask \n",
        "\n",
        "def Net(mask, mask_2):\n",
        "\t# define input\n",
        "  x = keras.Input(shape=(55, 47, 3), name='input')\n",
        "  # feature extraction\n",
        "  conv_1 = keras.layers.Conv2D(20, (4, 4), activation='relu', name='conv_1')(x)\n",
        "  pool_1 = keras.layers.MaxPooling2D((2, 2), name='pool_1')(conv_1)\n",
        "  conv_2 = keras.layers.Conv2D(40, (3, 3), activation='relu', name='conv_2')(pool_1)\n",
        "  pool_2 = keras.layers.MaxPooling2D((2, 2), name='pool_2')(conv_2)\n",
        "  conv_3 = keras.layers.Conv2D(60, (3, 3), activation='relu', name='conv_3')(pool_2)\n",
        "  pool_3 = keras.layers.MaxPooling2D((2, 2), name='pool_3')(conv_3)\n",
        "  # first interpretation model\n",
        "  flat_1 = keras.layers.Flatten()(pool_3)\n",
        "  pru = keras.layers.Lambda(lambda x:x*mask)(flat_1)\n",
        "  fc_1 = keras.layers.Dense(160, name='fc_1')(pru)\n",
        "  # second interpretation model\n",
        "  conv_4 = keras.layers.Conv2D(80, (2, 2), activation='relu', name='conv_4')(pool_3)\n",
        "  flat_2 = keras.layers.Flatten()(conv_4)\n",
        "  pru_2 = keras.layers.Lambda(lambda x:x*mask_2)(flat_2)\n",
        "  fc_2 = keras.layers.Dense(160, name='fc_2')(pru_2)\n",
        "  # merge interpretation\n",
        "  merge = keras.layers.Add()([fc_1, fc_2])\n",
        "  add_1 = keras.layers.Activation('relu')(merge)\n",
        "  drop = keras.layers.Dropout(0.5)\n",
        "  # output\n",
        "  y_hat = keras.layers.Dense(1283, activation='softmax', name='output')(add_1)\n",
        "  model = keras.Model(inputs=x, outputs=y_hat)\n",
        "  # summarize layers\n",
        "  #print(model.summary())\n",
        "  # plot graph\n",
        "  #plot_model(model, to_file='model_architecture.png')\n",
        "\n",
        "  return model\n",
        "\n",
        "def get_acc(model, x, y):\n",
        "  lab = np.argmax(model.predict(x), axis=1)\n",
        "  accu = np.mean(np.equal(lab, y))*100\n",
        "  return accu"
      ],
      "execution_count": null,
      "outputs": []
    },
    {
      "cell_type": "code",
      "metadata": {
        "id": "hVjr6pNl3D2n"
      },
      "source": [
        "#setting fine-prune\n",
        "def accu_fine_prune(act, act2, fras, fra_mask,x_poi,y_poi,filename):\n",
        "  accu_pru_val = []\n",
        "  accu_pru_test = []\n",
        "  accu_pru_poi = []\n",
        "  accu_fp_val = []\n",
        "  accu_fp_test = []\n",
        "  accu_fp_poi = []\n",
        "  # mask = pru_mask(activations_2, i, fra_mask)\n",
        "  # mask_2 = pru_mask(activations, i, fra_mask)\n",
        "  for i in fras:\n",
        "    mask = pru_mask(act, i, fra_mask)\n",
        "    mask_2 = pru_mask(act2, i, fra_mask)\n",
        "    fp_model = Net(mask, mask_2)\n",
        "    fp_model.load_weights(filename, by_name=True)\n",
        "    # get accuracy after prune before fine tune\n",
        "    fp_poi_accu = get_acc(fp_model, x_poi, y_poi)\n",
        "    fp_val_accu = get_acc(fp_model, x_val, y_val)\n",
        "    fp_test_accu = get_acc(fp_model, x_test, y_test)\n",
        "    res = fp_model.predict(x_poi)\n",
        "    print('res of poison data(prune):', res)\n",
        "    accu_pru_val.append(fp_val_accu)\n",
        "    accu_pru_test.append(fp_test_accu)\n",
        "    accu_pru_poi.append(fp_poi_accu)\n",
        "    # compile model \n",
        "    fp_model.compile(optimizer=keras.optimizers.SGD(1e-3,momentum=0.9),  # Very low learning rate\n",
        "                loss=keras.losses.SparseCategoricalCrossentropy(from_logits=True),\n",
        "                metrics=['accuracy'])\n",
        "    fp_model.fit(x_val, y_val, epochs=20, verbose=0)\n",
        "    # bd_model.save(str(i)+'.h5')\n",
        "    # print(0)\n",
        "    # fp_model.save('mullip_'+str(i)+'.h5')\n",
        "    # print(1)\n",
        "    res = fp_model.predict(x_poi)\n",
        "    print('res of poison data(fine-prune):', res)\n",
        "    # get accuracy after fine-pruning \n",
        "    fp_poi_accu = get_acc(fp_model, x_poi, y_poi)\n",
        "    fp_val_accu = get_acc(fp_model, x_val, y_val)\n",
        "    fp_test_accu = get_acc(fp_model, x_test, y_test)\n",
        "    accu_fp_val.append(fp_val_accu)\n",
        "    accu_fp_test.append(fp_test_accu)\n",
        "    accu_fp_poi.append(fp_poi_accu)\n",
        "\n",
        "  return accu_pru_val, accu_pru_test, accu_pru_poi, accu_fp_val, accu_fp_test, accu_fp_poi"
      ],
      "execution_count": null,
      "outputs": []
    },
    {
      "cell_type": "code",
      "metadata": {
        "id": "mN4oCdaCrIfF"
      },
      "source": [
        "# save model based on accuracy\n",
        "def save_model(act, act2, fra, fra_mask,filename, save_name):\n",
        " \n",
        "  mask = pru_mask(act, fra, fra_mask)\n",
        "  mask_2 = pru_mask(act2, fra, fra_mask)\n",
        "  fp_model = Net(mask, mask_2)\n",
        "  fp_model.load_weights(filename, by_name=True)\n",
        "  fp_model.compile(optimizer=keras.optimizers.SGD(1e-3,momentum=0.9),  # Very low learning rate\n",
        "              loss=keras.losses.SparseCategoricalCrossentropy(from_logits=True),\n",
        "              metrics=['accuracy'])\n",
        "  fp_model.fit(x_val, y_val, epochs=20, verbose=0)\n",
        "  \n",
        "  fp_model.save(save_name+'.h5')\n",
        "  return "
      ],
      "execution_count": null,
      "outputs": []
    },
    {
      "cell_type": "markdown",
      "metadata": {
        "id": "0EcdSYExlHRC"
      },
      "source": [
        "# BadNet1:Sunglasses_BD_NET"
      ]
    },
    {
      "cell_type": "code",
      "metadata": {
        "id": "tlkVGkTmlXzE"
      },
      "source": [
        "# get badnet and weight\n",
        "sun_weight_filename = \"model/sunglasses_bd_weights.h5\"\n",
        "sun_bd_filename = \"model/sunglasses_bd_net.h5\"\n",
        "\n",
        "bd_model = keras.models.load_model(sun_bd_filename)"
      ],
      "execution_count": null,
      "outputs": []
    },
    {
      "cell_type": "code",
      "metadata": {
        "id": "9-F49Ibxn4bq"
      },
      "source": [
        "# hyper-parameter, fra_mask = 0\n",
        "fras = [0.5, 0.55, 0.6, 0.65, 0.7, 0.75, 0.8, 0.85, 0.9, 0.95]\n",
        "fra_mask = 0\n",
        "act_sun, act_sun2 = act_last_layer(bd_model, x_val)\n",
        "accu_pru_val, accu_pru_test, accu_pru_poi, accu_fp_val, accu_fp_test, accu_fp_poi= accu_fine_prune(act_sun, act_sun2, fras, fra_mask,x_sun,y_sun, sun_bd_filename)"
      ],
      "execution_count": null,
      "outputs": []
    },
    {
      "cell_type": "code",
      "metadata": {
        "colab": {
          "base_uri": "https://localhost:8080/",
          "height": 666
        },
        "id": "rnP_OnCn-Dhv",
        "outputId": "bfeeb433-ec14-41a8-a4c2-705a47898d42"
      },
      "source": [
        "# for 0 mask\n",
        "plt.plot(fras,accu_pru_val, color='b',marker = \"^\",linestyle = ':')\n",
        "plt.plot(fras,accu_pru_poi, color='g',marker = 's')\n",
        "plt.plot(fras,accu_pru_test, color='r', marker = '8', linestyle='-.')\n",
        "plt.legend(['clean validation','poison data','clean test'],loc= 'best')\n",
        "plt.xlabel(\"Fraction of pruning\")\n",
        "plt.ylabel('Rate after pruning')\n",
        "plt.savefig('sun_rate_prune.png')\n",
        "plt.show()\n",
        "\n",
        "plt.plot(fras,accu_fp_val, color='b',marker = \"^\",linestyle = ':')\n",
        "plt.plot(fras,accu_fp_poi, color='g',marker = 's')\n",
        "plt.plot(fras,accu_fp_test, color='r',marker = '8', linestyle='-.')\n",
        "plt.legend(['clean validation','poison data','clean test'],loc= 'best')\n",
        "plt.xlabel(\"Fraction of pruning\")\n",
        "plt.ylabel('Rate after fine-pruning')\n",
        "plt.savefig('sun_rate_fp.png')\n",
        "plt.show()\n",
        "\n",
        "print('accuracy after prune(validation data):', accu_pru_val)\n",
        "print('accuracy after prune(poison data): ',accu_pru_poi)\n",
        "print('accuracy after prune(test data):',accu_pru_test)\n",
        "print('accuracy after fine-prune(validation data):', accu_fp_val)\n",
        "print('accuracy after fine-prune(poison data): ',accu_fp_poi)\n",
        "print('accuracy after fine-prune(test data):',accu_fp_test)\n",
        "# data = np.cstack"
      ],
      "execution_count": null,
      "outputs": [
        {
          "output_type": "display_data",
          "data": {
            "image/png": "[encoded data removed]",
            "text/plain": [
              "<Figure size 432x288 with 1 Axes>"
            ]
          },
          "metadata": {
            "tags": [],
            "needs_background": "light"
          }
        },
        {
          "output_type": "display_data",
          "data": {
            "image/png": "[encoded data removed]",
            "text/plain": [
              "<Figure size 432x288 with 1 Axes>"
            ]
          },
          "metadata": {
            "tags": [],
            "needs_background": "light"
          }
        },
        {
          "output_type": "stream",
          "text": [
            "accuracy after prune(validation data): [87.2954014029618, 82.02996449294189, 72.8414306746341, 64.68346756733351, 52.95747813284836, 40.14029618082619, 27.2451719061228, 12.574694725902832, 4.771802199705552, 1.4462630986403395]\n",
            "accuracy after prune(poison data):  [97.13951675759938, 95.1597817614965, 93.10989867498051, 84.28682774746687, 73.35931410756041, 75.19095869056898, 53.44505066250974, 23.522992985190957, 6.703039750584567, 0.0]\n",
            "accuracy after prune(test data): [87.40452065471551, 82.57989088074824, 72.66562743569759, 64.24006235385814, 52.90724863600935, 40.60015588464536, 27.84099766173032, 12.455183164458301, 4.777864380358535, 1.332813717848792]\n",
            "accuracy after fine-prune(validation data): [99.96535896769724, 99.98267948384861, 99.96535896769724, 99.94803845154586, 99.97401922577292, 99.97401922577292, 99.92205767731879, 99.93937819347016, 99.9047371611674, 99.91339741924308]\n",
            "accuracy after fine-prune(poison data):  [69.2049883086516, 56.74201091192518, 48.89321901792674, 42.8526890101325, 33.35151987529228, 32.95401402961809, 18.269680436477007, 10.023382696804365, 3.211223694466095, 0.02338269680436477]\n",
            "accuracy after fine-prune(test data): [96.36009353078721, 96.18862042088854, 95.74434918160561, 95.47155105222136, 95.04286827747467, 94.5128604832424, 93.94388152766953, 93.06313328137179, 91.95635229929852, 90.21823850350741]\n"
          ],
          "name": "stdout"
        }
      ]
    },
    {
      "cell_type": "code",
      "metadata": {
        "id": "Zoyf7jmd1f7v"
      },
      "source": [
        "save_model(act_sun, act_sun2, 0.9, 0,sun_weight_filename,'sun_bd_repaired')"
      ],
      "execution_count": null,
      "outputs": []
    },
    {
      "cell_type": "code",
      "metadata": {
        "colab": {
          "base_uri": "https://localhost:8080/"
        },
        "id": "D_jx_T-iiDDr",
        "outputId": "c0f4ba2c-a049-49c9-b81b-472dffd7b684"
      },
      "source": [
        "sun_repaired_model = keras.models.load_model('sun_bd_repaired.h5')\n",
        "sun_repaired_model.evaluate(x_test,y_test)"
      ],
      "execution_count": null,
      "outputs": [
        {
          "output_type": "stream",
          "text": [
            "401/401 [==============================] - 8s 3ms/step - loss: 0.5447 - accuracy: 0.9213\n"
          ],
          "name": "stdout"
        },
        {
          "output_type": "execute_result",
          "data": {
            "text/plain": [
              "[0.5447450280189514, 0.9212782382965088]"
            ]
          },
          "metadata": {
            "tags": []
          },
          "execution_count": 9
        }
      ]
    },
    {
      "cell_type": "markdown",
      "metadata": {
        "id": "MUEU84qs5prn"
      },
      "source": [
        "# BadNet: Anonymous 1"
      ]
    },
    {
      "cell_type": "code",
      "metadata": {
        "id": "GYrdvk305vnm"
      },
      "source": [
        "# get badnet and weight\n",
        "ano1_bd_filename = \"model/anonymous_1_bd_net.h5\"\n",
        "ano1_weight_filename = \"model/anonymous_1_bd_weights.h5\"\n",
        "ano1_model = keras.models.load_model(ano1_bd_filename)\n",
        "\n",
        "# anonymous 1 data\n",
        "x_ano1, y_ano1 = data_loader(anonymous_1_filename)\n",
        "x_ano1 = data_preprocess(x_ano1)\n"
      ],
      "execution_count": null,
      "outputs": []
    },
    {
      "cell_type": "code",
      "metadata": {
        "id": "UL892mxS5who"
      },
      "source": [
        "# hyper-parameter, fra_mask = 0\n",
        "fras = [0.5, 0.55, 0.6, 0.65, 0.7, 0.75, 0.8, 0.85, 0.9, 0.95]\n",
        "fra_mask = 0\n",
        "act_ano1, act_ano12 = act_last_layer(ano1_model, x_val)\n",
        "accu_pru_val, accu_pru_test, accu_pru_poi, accu_fp_val, accu_fp_test, accu_fp_poi= accu_fine_prune(act_ano1, act_ano12, fras, fra_mask,x_ano1,y_ano1, ano1_weight_filename)\n"
      ],
      "execution_count": null,
      "outputs": []
    },
    {
      "cell_type": "code",
      "metadata": {
        "colab": {
          "base_uri": "https://localhost:8080/",
          "height": 666
        },
        "id": "g3_Jy-ibVQCg",
        "outputId": "fb88a65d-830b-4f6f-f780-dd46699ad76b"
      },
      "source": [
        "# for 0 mask\n",
        "plt.plot(fras,accu_pru_val, color='b',marker = \"^\",linestyle = ':')\n",
        "plt.plot(fras,accu_pru_poi, color='g',marker = 's')\n",
        "plt.plot(fras,accu_pru_test, color='r', marker = '8', linestyle='-.')\n",
        "plt.legend(['clean validation','poison data','clean test'],loc= 'best')\n",
        "plt.xlabel(\"Fraction of pruning\")\n",
        "plt.ylabel('Rate after pruning')\n",
        "plt.savefig('ano1_rate_prune.png')\n",
        "plt.show()\n",
        "\n",
        "plt.plot(fras,accu_fp_val, color='b',marker = \"^\",linestyle = ':')\n",
        "plt.plot(fras,accu_fp_poi, color='g',marker = 's')\n",
        "plt.plot(fras,accu_fp_test, color='r',marker = '8', linestyle='-.')\n",
        "plt.legend(['clean validation','poison data','clean test'],loc= 'best')\n",
        "plt.xlabel(\"Fraction of pruning\")\n",
        "plt.ylabel('Rate after fine-pruning')\n",
        "plt.savefig('ano1_rate_fp.png')\n",
        "plt.show()\n",
        "\n",
        "print('accuracy after prune(validation data):', accu_pru_val)\n",
        "print('accuracy after prune(poison data): ',accu_pru_poi)\n",
        "print('accuracy after prune(test data):',accu_pru_test)\n",
        "print('accuracy after fine-prune(validation data):', accu_fp_val)\n",
        "print('accuracy after fine-prune(poison data): ',accu_fp_poi)\n",
        "print('accuracy after fine-prune(test data):',accu_fp_test)"
      ],
      "execution_count": null,
      "outputs": [
        {
          "output_type": "display_data",
          "data": {
            "image/png": "[encoded data removed]",
            "text/plain": [
              "<Figure size 432x288 with 1 Axes>"
            ]
          },
          "metadata": {
            "tags": [],
            "needs_background": "light"
          }
        },
        {
          "output_type": "display_data",
          "data": {
            "image/png": "[encoded data removed]",
            "text/plain": [
              "<Figure size 432x288 with 1 Axes>"
            ]
          },
          "metadata": {
            "tags": [],
            "needs_background": "light"
          }
        },
        {
          "output_type": "stream",
          "text": [
            "accuracy after prune(validation data): [89.26127998614358, 84.03048410842644, 77.379405906296, 66.08642937559539, 53.321208972027364, 38.113795791114576, 23.92829306313328, 11.89053433792327, 3.4987442625790246, 0.19052567766519443]\n",
            "accuracy after prune(poison data):  [75.53585346843336, 77.51363990646921, 78.9360872954014, 64.92595479345285, 52.07521434138738, 52.58183943881528, 36.39906469212782, 51.65627435697584, 86.87646141855028, 97.99298519095869]\n",
            "accuracy after prune(test data): [89.08028059236165, 83.88152766952454, 76.75759937646141, 65.5650818394388, 53.25798908807482, 38.20732657833204, 24.084177708495712, 12.361652377240842, 3.6399064692127823, 0.2572096648480125]\n",
            "accuracy after fine-prune(validation data): [99.98267948384861, 99.96535896769724, 99.98267948384861, 99.92205767731879, 99.98267948384861, 99.97401922577292, 99.96535896769724, 99.97401922577292, 99.96535896769724, 99.97401922577292]\n",
            "accuracy after fine-prune(poison data):  [29.637568199532343, 24.56157443491816, 14.136788776305535, 3.5658612626656274, 1.3639906469212781, 0.5553390491036634, 0.06819953234606392, 0.10717069368667187, 0.0779423226812159, 0.029228371005455965]\n",
            "accuracy after fine-prune(test data): [97.42010911925175, 97.2564302416212, 96.92907248636008, 96.72642244738893, 95.93141075604052, 95.5572876071707, 94.87139516757598, 94.31021044427123, 93.15666406858925, 91.3016367887763]\n"
          ],
          "name": "stdout"
        }
      ]
    },
    {
      "cell_type": "code",
      "metadata": {
        "id": "maCupNWg1n9p"
      },
      "source": [
        "save_model(act_ano1, act_ano12, 0.8, 0,ano1_weight_filename,'ano1_bd_repaired')"
      ],
      "execution_count": null,
      "outputs": []
    },
    {
      "cell_type": "code",
      "metadata": {
        "colab": {
          "base_uri": "https://localhost:8080/"
        },
        "id": "WIJTzrvrC09l",
        "outputId": "44d154d4-c2cf-4042-c5e9-4cb93dc9d6d1"
      },
      "source": [
        "ano1_repaired_model = keras.models.load_model('ano1_bd_repaired.h5')\n",
        "ano1_repaired_model.evaluate(x_test,y_test)"
      ],
      "execution_count": null,
      "outputs": [
        {
          "output_type": "stream",
          "text": [
            "401/401 [==============================] - 1s 3ms/step - loss: 0.3274 - accuracy: 0.9503\n"
          ],
          "name": "stdout"
        },
        {
          "output_type": "execute_result",
          "data": {
            "text/plain": [
              "[0.3273594379425049, 0.950272798538208]"
            ]
          },
          "metadata": {
            "tags": []
          },
          "execution_count": 10
        }
      ]
    },
    {
      "cell_type": "markdown",
      "metadata": {
        "id": "2oFo1VmN5wrT"
      },
      "source": [
        "# BadNet: Anonymous 2"
      ]
    },
    {
      "cell_type": "code",
      "metadata": {
        "id": "C57q3SJx5z2q"
      },
      "source": [
        "# get badnet and weight\n",
        "ano2_bd_filename = \"model/anonymous_2_bd_net.h5\"\n",
        "ano2_weight_filename = \"model/anonymous_2_bd_weights.h5\"\n",
        "ano2_model = keras.models.load_model(ano2_bd_filename)"
      ],
      "execution_count": null,
      "outputs": []
    },
    {
      "cell_type": "code",
      "metadata": {
        "id": "oc5eax7VFzh2"
      },
      "source": [
        "#without poison data\n",
        "def accu_fine_prune2(act, act2, fras, fra_mask,filename):\n",
        "  accu_pru_val = []\n",
        "  accu_pru_test = []\n",
        "  # accu_pru_poi = []\n",
        "  accu_fp_val = []\n",
        "  accu_fp_test = []\n",
        "  # accu_fp_poi = []\n",
        "  # mask = pru_mask(activations_2, i, fra_mask)\n",
        "  # mask_2 = pru_mask(activations, i, fra_mask)\n",
        "  for i in fras:\n",
        "    mask = pru_mask(act, i, fra_mask)\n",
        "    mask_2 = pru_mask(act2, i, fra_mask)\n",
        "    fp_model = Net(mask, mask_2)\n",
        "    fp_model.load_weights(filename, by_name=True)\n",
        "    # get accuracy after prune before fine tune\n",
        "    # fp_poi_accu = get_acc(fp_model, x_poi, y_poi)\n",
        "    fp_val_accu = get_acc(fp_model, x_val, y_val)\n",
        "    fp_test_accu = get_acc(fp_model, x_test, y_test)\n",
        "    accu_pru_val.append(fp_val_accu)\n",
        "    accu_pru_test.append(fp_test_accu)\n",
        "    # accu_pru_poi.append(fp_poi_accu)\n",
        "    # compile model \n",
        "    fp_model.compile(optimizer=keras.optimizers.SGD(1e-3,momentum=0.9),  # Very low learning rate\n",
        "                loss=keras.losses.SparseCategoricalCrossentropy(from_logits=True),\n",
        "                metrics=['accuracy'])\n",
        "    fp_model.fit(x_val, y_val, epochs=20, verbose=0)\n",
        "    # get accuracy after fine-pruning \n",
        "    # fp_poi_accu = get_acc(fp_model, x_poi, y_poi)\n",
        "    fp_val_accu = get_acc(fp_model, x_val, y_val)\n",
        "    fp_test_accu = get_acc(fp_model, x_test, y_test)\n",
        "    accu_fp_val.append(fp_val_accu)\n",
        "    accu_fp_test.append(fp_test_accu)\n",
        "    # accu_fp_poi.append(fp_poi_accu)\n",
        "\n",
        "  return accu_pru_val, accu_pru_test, accu_fp_val, accu_fp_test"
      ],
      "execution_count": null,
      "outputs": []
    },
    {
      "cell_type": "code",
      "metadata": {
        "id": "6clrqNyFGIHY"
      },
      "source": [
        "# hyper-parameter, fra_mask = 0\n",
        "fras = [0.5, 0.55, 0.6, 0.65, 0.7, 0.75, 0.8, 0.85, 0.9, 0.95]\n",
        "fra_mask = 0\n",
        "act_ano2, act_ano22 = act_last_layer(ano2_model, x_val)\n",
        "accu_pru_val, accu_pru_test, accu_fp_val, accu_fp_test= accu_fine_prune2(act_ano2, act_ano22, fras, fra_mask,ano2_weight_filename)\n"
      ],
      "execution_count": null,
      "outputs": []
    },
    {
      "cell_type": "code",
      "metadata": {
        "colab": {
          "base_uri": "https://localhost:8080/",
          "height": 631
        },
        "id": "jd0EYPtXGh2A",
        "outputId": "670c3201-3778-4c2b-a750-6099c13e0d56"
      },
      "source": [
        "# for 0 mask\n",
        "plt.plot(fras,accu_pru_val, color='b',marker = \"^\",linestyle = ':')\n",
        "# plt.plot(fras,accu_pru_poi, color='g',marker = 's')\n",
        "plt.plot(fras,accu_pru_test, color='r', marker = '8', linestyle='-.')\n",
        "plt.legend(['clean validation','clean test'],loc= 'best')\n",
        "plt.xlabel(\"Fraction of pruning\")\n",
        "plt.ylabel('Rate after pruning')\n",
        "plt.ylim(0,105)\n",
        "plt.savefig('ano2_rate_prune.png')\n",
        "plt.show()\n",
        "\n",
        "plt.plot(fras,accu_fp_val, color='b',marker = \"^\",linestyle = ':')\n",
        "# plt.plot(fras,accu_fp_poi, color='g',marker = 's')\n",
        "plt.plot(fras,accu_fp_test, color='r',marker = '8', linestyle='-.')\n",
        "plt.legend(['clean validation','clean test'],loc= 'best')\n",
        "plt.xlabel(\"Fraction of pruning\")\n",
        "plt.ylabel('Rate after fine-pruning')\n",
        "plt.ylim(0,105)\n",
        "plt.savefig('ano2_rate_fp.png')\n",
        "plt.show()\n",
        "\n",
        "print('accuracy after prune(validation data):', accu_pru_val)\n",
        "# print('accuracy after prune(poison data): ',accu_pru_poi)\n",
        "print('accuracy after prune(test data):',accu_pru_test)\n",
        "print('accuracy after fine-prune(validation data):', accu_fp_val)\n",
        "# print('accuracy after fine-prune(poison data): ',accu_fp_poi)\n",
        "print('accuracy after fine-prune(test data):',accu_fp_test)"
      ],
      "execution_count": null,
      "outputs": [
        {
          "output_type": "display_data",
          "data": {
            "image/png": "[encoded data removed]",
            "text/plain": [
              "<Figure size 432x288 with 1 Axes>"
            ]
          },
          "metadata": {
            "tags": [],
            "needs_background": "light"
          }
        },
        {
          "output_type": "display_data",
          "data": {
            "image/png": "[encoded data removed]",
            "text/plain": [
              "<Figure size 432x288 with 1 Axes>"
            ]
          },
          "metadata": {
            "tags": [],
            "needs_background": "light"
          }
        },
        {
          "output_type": "stream",
          "text": [
            "accuracy after prune(validation data): [85.41612540053694, 80.24595132934962, 71.6376548021131, 64.18117259894345, 54.923356716030135, 44.764873993245, 30.51008920065818, 18.79276002424872, 8.296527236511649, 2.7453018099939377]\n",
            "accuracy after prune(test data): [85.43257989088075, 80.14809041309431, 70.87295401402962, 63.39049103663289, 54.614185502727985, 44.50506625097428, 30.498830865159782, 18.862042088854245, 8.48791893998441, 2.665627435697584]\n",
            "accuracy after fine-prune(validation data): [99.96535896769724, 99.96535896769724, 99.97401922577292, 99.98267948384861, 99.96535896769724, 99.98267948384861, 99.96535896769724, 99.93937819347016, 99.89607690309171, 99.97401922577292]\n",
            "accuracy after fine-prune(test data): [96.75759937646143, 96.53936087295402, 95.91582229150428, 95.71317225253313, 95.53390491036633, 94.96492595479346, 94.48168355416992, 93.53078721745908, 92.09664848012471, 90.54559625876851]\n"
          ],
          "name": "stdout"
        }
      ]
    },
    {
      "cell_type": "code",
      "metadata": {
        "id": "6SMa8B8ct0km"
      },
      "source": [
        "save_model(act_ano2, act_ano22, 0.8, 0,ano2_weight_filename,'ano2_bd_repaired')"
      ],
      "execution_count": null,
      "outputs": []
    },
    {
      "cell_type": "code",
      "metadata": {
        "colab": {
          "base_uri": "https://localhost:8080/"
        },
        "id": "Mga8Ihm5ukzi",
        "outputId": "7955a2c2-8a33-4e66-f8ea-87d7031d195a"
      },
      "source": [
        "ano2_repaired_model = keras.models.load_model('ano2_bd_repaired.h5')\n",
        "ano2_repaired_model.evaluate(x_test,y_test)"
      ],
      "execution_count": null,
      "outputs": [
        {
          "output_type": "stream",
          "text": [
            "401/401 [==============================] - 1s 3ms/step - loss: 0.3231 - accuracy: 0.9433\n"
          ],
          "name": "stdout"
        },
        {
          "output_type": "execute_result",
          "data": {
            "text/plain": [
              "[0.32311344146728516, 0.9432579874992371]"
            ]
          },
          "metadata": {
            "tags": []
          },
          "execution_count": 11
        }
      ]
    },
    {
      "cell_type": "markdown",
      "metadata": {
        "id": "pPztpkaJ51sW"
      },
      "source": [
        "# BadNet: Multi_trigger_Multi_target"
      ]
    },
    {
      "cell_type": "code",
      "metadata": {
        "id": "RHIMpBIz6abB"
      },
      "source": [
        "# get badnet and weight\n",
        "mul_bd_filename = \"model/multi_trigger_multi_target_bd_net.h5\"\n",
        "mul_weight_filename = \"model/multi_trigger_multi_target_bd_weights.h5\"\n",
        "mul_model = keras.models.load_model(mul_bd_filename)\n",
        "# get data\n",
        "# multi_trigger data\n",
        "x_me, y_me = data_loader(muleye_filename)\n",
        "x_me = data_preprocess(x_me)\n",
        "x_ms, y_ms = data_loader(mulsun_filename)\n",
        "x_ms = data_preprocess(x_ms)\n",
        "x_ml, y_ml = data_loader(mullip_filename)\n",
        "x_ml = data_preprocess(x_ml)"
      ],
      "execution_count": null,
      "outputs": []
    },
    {
      "cell_type": "code",
      "metadata": {
        "id": "EXa26Ox_FZ8r"
      },
      "source": [
        "# hyper-parameter, fra_mask = 0\n",
        "fras = [0.5, 0.55, 0.6, 0.65, 0.7, 0.75, 0.8, 0.85, 0.9, 0.95]\n",
        "fra_mask = 0\n",
        "act_mul, act_mul2 = act_last_layer(mul_model, x_val)\n",
        "accu_pru_val, accu_pru_test, accu_pru_poi, accu_fp_val, accu_fp_test, accu_fp_poi= accu_fine_prune(act_mul, act_mul2, fras, fra_mask,x_me,y_me, mul_weight_filename)\n"
      ],
      "execution_count": null,
      "outputs": []
    },
    {
      "cell_type": "code",
      "metadata": {
        "colab": {
          "base_uri": "https://localhost:8080/",
          "height": 666
        },
        "id": "i6Niw9uGG6mE",
        "outputId": "12771b4c-0efe-491d-d631-5d7a02021a55"
      },
      "source": [
        "# for 0 mask\n",
        "plt.plot(fras,accu_pru_val, color='b',marker = \"^\",linestyle = ':')\n",
        "plt.plot(fras,accu_pru_poi, color='g',marker = 's')\n",
        "plt.plot(fras,accu_pru_test, color='r', marker = '8', linestyle='-.')\n",
        "plt.legend(['clean validation','poison data','clean test'],loc= 'best')\n",
        "plt.xlabel(\"Fraction of pruning\")\n",
        "plt.ylabel('Rate after pruning')\n",
        "plt.ylim(0,105)\n",
        "plt.savefig('mul_rate_prune.png')\n",
        "plt.show()\n",
        "\n",
        "plt.plot(fras,accu_fp_val, color='b',marker = \"^\",linestyle = ':')\n",
        "plt.plot(fras,accu_fp_poi, color='g',marker = 's')\n",
        "plt.plot(fras,accu_fp_test, color='r',marker = '8', linestyle='-.')\n",
        "plt.legend(['clean validation','poison data','clean test'],loc= 'best')\n",
        "plt.xlabel(\"Fraction of pruning\")\n",
        "plt.ylabel('Rate after fine-pruning')\n",
        "plt.savefig('mul_rate_fp.png')\n",
        "plt.show()\n",
        "\n",
        "print('accuracy after prune(validation data):', accu_pru_val)\n",
        "print('accuracy after prune(poison data): ',accu_pru_poi)\n",
        "print('accuracy after prune(test data):',accu_pru_test)\n",
        "print('accuracy after fine-prune(validation data):', accu_fp_val)\n",
        "print('accuracy after fine-prune(poison data): ',accu_fp_poi)\n",
        "print('accuracy after fine-prune(test data):',accu_fp_test)"
      ],
      "execution_count": null,
      "outputs": [
        {
          "output_type": "display_data",
          "data": {
            "image/png": "[encoded data removed]",
            "text/plain": [
              "<Figure size 432x288 with 1 Axes>"
            ]
          },
          "metadata": {
            "tags": [],
            "needs_background": "light"
          }
        },
        {
          "output_type": "display_data",
          "data": {
            "image/png": "[encoded data removed]",
            "text/plain": [
              "<Figure size 432x288 with 1 Axes>"
            ]
          },
          "metadata": {
            "tags": [],
            "needs_background": "light"
          }
        },
        {
          "output_type": "stream",
          "text": [
            "accuracy after prune(validation data): [86.40339482116566, 81.00805404001039, 73.01463583614792, 65.18576253572357, 54.5856066510782, 45.10262405819693, 31.609941976270896, 21.55538235039404, 10.929245691521608, 2.6153979388585777]\n",
            "accuracy after prune(poison data):  [87.82151208106002, 86.00935307872174, 83.51519875292284, 83.88542478565861, 75.80865159781762, 59.72330475448169, 70.46960249415433, 56.81995323460639, 41.44583008573656, 6.410756040530008]\n",
            "accuracy after prune(test data): [86.43024162120031, 81.1925175370226, 73.76461418550274, 65.58846453624318, 55.39360872954015, 45.4169914263445, 31.97194076383476, 21.683554169914263, 11.215900233826968, 2.509742790335152]\n",
            "accuracy after fine-prune(validation data): [99.98267948384861, 99.95669870962155, 99.98267948384861, 99.96535896769724, 99.91339741924308, 99.93071793539447, 99.97401922577292, 99.97401922577292, 99.93071793539447, 99.89607690309171]\n",
            "accuracy after fine-prune(poison data):  [48.33398285268901, 44.80709275136399, 48.39243959469992, 22.281761496492596, 24.970771628994544, 14.614185502727981, 8.154715510522212, 0.26305533904910366, 0.1461418550272798, 0.009742790335151987]\n",
            "accuracy after fine-prune(test data): [96.6095089633671, 96.42244738893218, 95.96258768511302, 95.8846453624318, 95.4169914263445, 94.94933749025721, 94.34138737334372, 93.75681995323461, 92.7435697583788, 90.29618082618862]\n"
          ],
          "name": "stdout"
        }
      ]
    },
    {
      "cell_type": "code",
      "metadata": {
        "id": "1yDFZviPIb9p"
      },
      "source": [
        "save_model(act_mul, act_mul2, 0.85, 0,mul_weight_filename,'mul_bd_repaired')"
      ],
      "execution_count": null,
      "outputs": []
    },
    {
      "cell_type": "code",
      "metadata": {
        "colab": {
          "base_uri": "https://localhost:8080/"
        },
        "id": "gBhb4fqSlkeq",
        "outputId": "b0359366-dc7e-4c0e-c148-005591da70ef"
      },
      "source": [
        "mul_repaired_model = keras.models.load_model('mul_bd_repaired.h5')\n",
        "mul_repaired_model.evaluate(x_test,y_test)"
      ],
      "execution_count": null,
      "outputs": [
        {
          "output_type": "stream",
          "text": [
            "401/401 [==============================] - 1s 3ms/step - loss: 0.3631 - accuracy: 0.9388\n"
          ],
          "name": "stdout"
        },
        {
          "output_type": "execute_result",
          "data": {
            "text/plain": [
              "[0.3630758225917816, 0.9388152956962585]"
            ]
          },
          "metadata": {
            "tags": []
          },
          "execution_count": 12
        }
      ]
    }
  ]
}